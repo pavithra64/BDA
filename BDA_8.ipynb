{
  "cells": [
    {
      "cell_type": "code",
      "execution_count": 20,
      "id": "366858e1-b1e4-42e1-b8e3-b907cb0a49c5",
      "metadata": {
        "id": "366858e1-b1e4-42e1-b8e3-b907cb0a49c5",
        "outputId": "faeb84ad-6480-4dfb-97c6-ecf8fab60bdf",
        "colab": {
          "base_uri": "https://localhost:8080/"
        }
      },
      "outputs": [
        {
          "output_type": "stream",
          "name": "stdout",
          "text": [
            "Mapped Output:\n",
            "[(2018, 1), (2019, 1), (2018, 1), (2020, 1), (2019, 1)]\n",
            "\n",
            "Shuffled Output:\n",
            "{2018: [1, 1], 2019: [1, 1], 2020: [1]}\n",
            "\n",
            "Reduced Output (Books per Year):\n",
            "{2018: 2, 2019: 2, 2020: 1}\n",
            "\n",
            "Year with maximum books published: 2018 (2 books)\n"
          ]
        }
      ],
      "source": [
        "from collections import defaultdict\n",
        "# Sample book data\n",
        "books = [\n",
        "    {\"Title\": \"BookA\", \"Author\": \"Author1\", \"PublishedYear\": 2018, \"Country\": \"India\", \"Language\": \"English\", \"Pages\": 250},\n",
        "    {\"Title\": \"BookB\", \"Author\": \"Author2\", \"PublishedYear\": 2019, \"Country\": \"USA\", \"Language\": \"English\", \"Pages\": 300},\n",
        "    {\"Title\": \"BookC\", \"Author\": \"Author3\", \"PublishedYear\": 2018, \"Country\": \"UK\", \"Language\": \"English\", \"Pages\": 150},\n",
        "    {\"Title\": \"BookD\", \"Author\": \"Author4\", \"PublishedYear\": 2020, \"Country\": \"India\", \"Language\": \"Tamil\", \"Pages\": 200},\n",
        "    {\"Title\": \"BookE\", \"Author\": \"Author5\", \"PublishedYear\": 2019, \"Country\": \"Canada\", \"Language\": \"French\", \"Pages\": 180},\n",
        "]\n",
        "\n",
        "# -------- MAP Step --------\n",
        "mapped = []\n",
        "for book in books:\n",
        "    year = book[\"PublishedYear\"]\n",
        "    mapped.append((year, 1))  # Emit (year, 1)\n",
        "\n",
        "print(\"Mapped Output:\")\n",
        "print(mapped)\n",
        "\n",
        "# -------- SHUFFLE Step --------\n",
        "shuffled = defaultdict(list)\n",
        "for key, value in mapped:\n",
        "    shuffled[key].append(value)\n",
        "\n",
        "print(\"\\nShuffled Output:\")\n",
        "print(dict(shuffled))\n",
        "\n",
        "# -------- REDUCE Step --------\n",
        "reduced = {}\n",
        "for year, values in shuffled.items():\n",
        "    reduced[year] = sum(values)  # Sum counts per year\n",
        "print(\"\\nReduced Output (Books per Year):\")\n",
        "print(reduced)\n",
        "\n",
        "# -------- Find Year with Maximum Books --------\n",
        "max_year = max(reduced, key=reduced.get)\n",
        "print(f\"\\nYear with maximum books published: {max_year} ({reduced[max_year]} books)\")\n"
      ]
    }
  ],
  "metadata": {
    "kernelspec": {
      "display_name": "Python [conda env:azam]",
      "language": "python",
      "name": "conda-env-azam-py"
    },
    "language_info": {
      "codemirror_mode": {
        "name": "ipython",
        "version": 3
      },
      "file_extension": ".py",
      "mimetype": "text/x-python",
      "name": "python",
      "nbconvert_exporter": "python",
      "pygments_lexer": "ipython3",
      "version": "3.12.11"
    },
    "colab": {
      "provenance": []
    }
  },
  "nbformat": 4,
  "nbformat_minor": 5
}