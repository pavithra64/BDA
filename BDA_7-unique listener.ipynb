{
  "cells": [
    {
      "cell_type": "code",
      "execution_count": 19,
      "id": "366858e1-b1e4-42e1-b8e3-b907cb0a49c5",
      "metadata": {
        "id": "366858e1-b1e4-42e1-b8e3-b907cb0a49c5",
        "outputId": "af7abf68-ee3a-4c09-b145-dd7b61772562",
        "colab": {
          "base_uri": "https://localhost:8080/"
        }
      },
      "outputs": [
        {
          "output_type": "stream",
          "name": "stdout",
          "text": [
            "Mapped Output (sample):\n",
            "[('unique_listener', 111115), ('shared', 0), ('radio', 1), ('listened_total', 1), ('skipped', 0), ('unique_listener', 111113), ('shared', 1), ('radio', 0), ('listened_total', 1), ('skipped', 0)]\n",
            "\n",
            "Shuffled Output:\n",
            "unique_listener : [111115, 111113, 111117, 111115]\n",
            "shared : [0, 1, 0, 1]\n",
            "radio : [1, 0, 1, 0]\n",
            "listened_total : [1, 1, 1, 1]\n",
            "skipped : [0, 0, 1, 0]\n",
            "\n",
            "Final Results:\n",
            "unique_listener: 3\n",
            "shared: 2\n",
            "radio: 2\n",
            "listened_total: 4\n",
            "skipped: 1\n"
          ]
        }
      ],
      "source": [
        "from collections import defaultdict\n",
        "\n",
        "# Sample log data\n",
        "logs = [\n",
        "    {\"UserId\": 111115, \"TrackId\": 222, \"Shared\": 0, \"Radio\": 1, \"Skip\": 0},\n",
        "    {\"UserId\": 111113, \"TrackId\": 225, \"Shared\": 1, \"Radio\": 0, \"Skip\": 0},\n",
        "    {\"UserId\": 111117, \"TrackId\": 223, \"Shared\": 0, \"Radio\": 1, \"Skip\": 1},\n",
        "    {\"UserId\": 111115, \"TrackId\": 225, \"Shared\": 1, \"Radio\": 0, \"Skip\": 0},\n",
        "]\n",
        "\n",
        "# -------- MAP Step --------\n",
        "mapped = []\n",
        "\n",
        "for log in logs:\n",
        "    # Emit unique listener (UserId as key, 1 as value)\n",
        "    mapped.append((\"unique_listener\", log[\"UserId\"]))\n",
        "\n",
        "    # Emit counts\n",
        "    mapped.append((\"shared\", log[\"Shared\"]))\n",
        "    mapped.append((\"radio\", log[\"Radio\"]))\n",
        "    mapped.append((\"listened_total\", 1))   # each row = 1 listen\n",
        "    mapped.append((\"skipped\", log[\"Skip\"]))\n",
        "\n",
        "print(\"Mapped Output (sample):\")\n",
        "print(mapped[:10])\n",
        "\n",
        "# -------- SHUFFLE Step --------\n",
        "shuffled = defaultdict(list)\n",
        "for key, value in mapped:\n",
        "    shuffled[key].append(value)\n",
        "\n",
        "print(\"\\nShuffled Output:\")\n",
        "for k, v in shuffled.items():\n",
        "    print(k, \":\", v)\n",
        "\n",
        "# -------- REDUCE Step --------\n",
        "results = {}\n",
        "\n",
        "for key, values in shuffled.items():\n",
        "    if key == \"unique_listener\":\n",
        "        results[key] = len(set(values))  # count distinct UserIds\n",
        "    else:\n",
        "        results[key] = sum(values)       # sum for other fields\n",
        "\n",
        "print(\"\\nFinal Results:\")\n",
        "for k, v in results.items():\n",
        "    print(f\"{k}: {v}\")\n"
      ]
    }
  ],
  "metadata": {
    "kernelspec": {
      "display_name": "Python [conda env:azam]",
      "language": "python",
      "name": "conda-env-azam-py"
    },
    "language_info": {
      "codemirror_mode": {
        "name": "ipython",
        "version": 3
      },
      "file_extension": ".py",
      "mimetype": "text/x-python",
      "name": "python",
      "nbconvert_exporter": "python",
      "pygments_lexer": "ipython3",
      "version": "3.12.11"
    },
    "colab": {
      "provenance": []
    }
  },
  "nbformat": 4,
  "nbformat_minor": 5
}
