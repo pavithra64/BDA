{
  "cells": [
    {
      "cell_type": "code",
      "execution_count": 24,
      "id": "366858e1-b1e4-42e1-b8e3-b907cb0a49c5",
      "metadata": {
        "id": "366858e1-b1e4-42e1-b8e3-b907cb0a49c5",
        "outputId": "2c33a4d5-d2f7-4bbd-bfac-745cf7bfc90d",
        "colab": {
          "base_uri": "https://localhost:8080/"
        }
      },
      "outputs": [
        {
          "output_type": "stream",
          "name": "stdout",
          "text": [
            "Mapped Output:\n",
            "[('B02512', ('2014-01-01', 1132)), ('B02512', ('2014-01-02', 1200)), ('B02513', ('2014-01-01', 800)), ('B02513', ('2014-01-02', 1600)), ('B02513', ('2014-01-03', 1600))]\n",
            "\n",
            "Shuffled Output:\n",
            "B02512 : [('2014-01-01', 1132), ('2014-01-02', 1200)]\n",
            "B02513 : [('2014-01-01', 800), ('2014-01-02', 1600), ('2014-01-03', 1600)]\n",
            "\n",
            "Final Results (Per Base):\n",
            "Base B02512: Max Trips = 1200 on ['2014-01-02']\n",
            "Base B02513: Max Trips = 1600 on ['2014-01-02', '2014-01-03']\n"
          ]
        }
      ],
      "source": [
        "from collections import defaultdict\n",
        "\n",
        "# Sample Uber dataset\n",
        "uber_data = [\n",
        "    {\"base\": \"B02512\", \"date\": \"2014-01-01\", \"active_vehicles\": 190, \"trips\": 1132},\n",
        "    {\"base\": \"B02512\", \"date\": \"2014-01-02\", \"active_vehicles\": 200, \"trips\": 1200},\n",
        "    {\"base\": \"B02513\", \"date\": \"2014-01-01\", \"active_vehicles\": 100, \"trips\": 800},\n",
        "    {\"base\": \"B02513\", \"date\": \"2014-01-02\", \"active_vehicles\": 150, \"trips\": 1600},\n",
        "    {\"base\": \"B02513\", \"date\": \"2014-01-03\", \"active_vehicles\": 170, \"trips\": 1600},\n",
        "]\n",
        "\n",
        "# -------- MAP STEP --------\n",
        "mapped = []\n",
        "for row in uber_data:\n",
        "    mapped.append((row[\"base\"], (row[\"date\"], row[\"trips\"])))\n",
        "\n",
        "print(\"Mapped Output:\")\n",
        "print(mapped)\n",
        "\n",
        "# -------- SHUFFLE STEP --------\n",
        "shuffled = defaultdict(list)\n",
        "for key, value in mapped:\n",
        "    shuffled[key].append(value)\n",
        "\n",
        "print(\"\\nShuffled Output:\")\n",
        "for k, v in shuffled.items():\n",
        "    print(k, \":\", v)\n",
        "\n",
        "# -------- REDUCE STEP --------\n",
        "results = {}\n",
        "\n",
        "for base, values in shuffled.items():\n",
        "    # Find max trips for this base\n",
        "    max_trips = max(trip for _, trip in values)\n",
        "    # Find all dates with this max trip count\n",
        "    best_days = [date for date, trip in values if trip == max_trips]\n",
        "    results[base] = {\"max_trips\": max_trips, \"best_days\": best_days}\n",
        "\n",
        "print(\"\\nFinal Results (Per Base):\")\n",
        "for base, stats in results.items():\n",
        "    print(f\"Base {base}: Max Trips = {stats['max_trips']} on {stats['best_days']}\")\n"
      ]
    }
  ],
  "metadata": {
    "kernelspec": {
      "display_name": "Python [conda env:azam]",
      "language": "python",
      "name": "conda-env-azam-py"
    },
    "language_info": {
      "codemirror_mode": {
        "name": "ipython",
        "version": 3
      },
      "file_extension": ".py",
      "mimetype": "text/x-python",
      "name": "python",
      "nbconvert_exporter": "python",
      "pygments_lexer": "ipython3",
      "version": "3.12.11"
    },
    "colab": {
      "provenance": []
    }
  },
  "nbformat": 4,
  "nbformat_minor": 5
}
