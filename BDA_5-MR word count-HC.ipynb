{
  "cells": [
    {
      "cell_type": "code",
      "execution_count": 16,
      "id": "366858e1-b1e4-42e1-b8e3-b907cb0a49c5",
      "metadata": {
        "id": "366858e1-b1e4-42e1-b8e3-b907cb0a49c5",
        "outputId": "cf0924c1-f27e-40b9-e1d2-a62fe13134c1",
        "colab": {
          "base_uri": "https://localhost:8080/"
        }
      },
      "outputs": [
        {
          "output_type": "stream",
          "name": "stdout",
          "text": [
            "Collecting mrjob\n",
            "  Downloading mrjob-0.7.4-py2.py3-none-any.whl.metadata (7.3 kB)\n",
            "Requirement already satisfied: PyYAML>=3.10 in /usr/local/lib/python3.12/dist-packages (from mrjob) (6.0.3)\n",
            "Downloading mrjob-0.7.4-py2.py3-none-any.whl (439 kB)\n",
            "\u001b[?25l   \u001b[90m━━━━━━━━━━━━━━━━━━━━━━━━━━━━━━━━━━━━━━━━\u001b[0m \u001b[32m0.0/439.6 kB\u001b[0m \u001b[31m?\u001b[0m eta \u001b[36m-:--:--\u001b[0m\r\u001b[2K   \u001b[91m━━━━━━━━━━━━━━━━━━━━━━━━━━\u001b[0m\u001b[90m╺\u001b[0m\u001b[90m━━━━━━━━━━━━━\u001b[0m \u001b[32m286.7/439.6 kB\u001b[0m \u001b[31m8.4 MB/s\u001b[0m eta \u001b[36m0:00:01\u001b[0m\r\u001b[2K   \u001b[90m━━━━━━━━━━━━━━━━━━━━━━━━━━━━━━━━━━━━━━━━\u001b[0m \u001b[32m439.6/439.6 kB\u001b[0m \u001b[31m8.7 MB/s\u001b[0m eta \u001b[36m0:00:00\u001b[0m\n",
            "\u001b[?25hInstalling collected packages: mrjob\n",
            "Successfully installed mrjob-0.7.4\n",
            "Mapped Output:\n",
            "[('hadoop', 1), ('mapreduce', 1), ('is', 1), ('simple', 1), ('mapreduce', 1), ('works', 1), ('with', 1), ('big', 1), ('data', 1), ('mapreduce', 1), ('is', 1), ('powerful', 1)]\n",
            "\n",
            "Shuffled Output:\n",
            "{'hadoop': [1], 'mapreduce': [1, 1, 1], 'is': [1, 1], 'simple': [1], 'works': [1], 'with': [1], 'big': [1], 'data': [1], 'powerful': [1]}\n",
            "\n",
            "Reduced Output (Final Word Count):\n",
            "[('hadoop', 1), ('mapreduce', 3), ('is', 2), ('simple', 1), ('works', 1), ('with', 1), ('big', 1), ('data', 1), ('powerful', 1)]\n"
          ]
        }
      ],
      "source": [
        "!pip install mrjob\n",
        "from collections import defaultdict\n",
        "\n",
        "# Sample input\n",
        "data = [\n",
        "    \"Hadoop MapReduce is simple\",\n",
        "    \"MapReduce works with big data\",\n",
        "    \"MapReduce is powerful\"\n",
        "]\n",
        "\n",
        "# -------- Map Step --------\n",
        "def mapper(line):\n",
        "    for word in line.split():\n",
        "        yield word.lower(), 1\n",
        "\n",
        "mapped = []\n",
        "for line in data:\n",
        "    mapped.extend(mapper(line))\n",
        "\n",
        "print(\"Mapped Output:\")\n",
        "print(mapped)\n",
        "\n",
        "# -------- Shuffle & Sort Step --------\n",
        "shuffled = defaultdict(list)\n",
        "for word, count in mapped:\n",
        "    shuffled[word].append(count)\n",
        "\n",
        "print(\"\\nShuffled Output:\")\n",
        "print(dict(shuffled))\n",
        "\n",
        "# -------- Reduce Step --------\n",
        "def reducer(word, counts):\n",
        "    return word, sum(counts)\n",
        "\n",
        "reduced = []\n",
        "for word, counts in shuffled.items():\n",
        "    reduced.append(reducer(word, counts))\n",
        "\n",
        "print(\"\\nReduced Output (Final Word Count):\")\n",
        "print(reduced)\n",
        "\n",
        "\n"
      ]
    }
  ],
  "metadata": {
    "kernelspec": {
      "display_name": "Python [conda env:azam]",
      "language": "python",
      "name": "conda-env-azam-py"
    },
    "language_info": {
      "codemirror_mode": {
        "name": "ipython",
        "version": 3
      },
      "file_extension": ".py",
      "mimetype": "text/x-python",
      "name": "python",
      "nbconvert_exporter": "python",
      "pygments_lexer": "ipython3",
      "version": "3.12.11"
    },
    "colab": {
      "provenance": []
    }
  },
  "nbformat": 4,
  "nbformat_minor": 5
}
