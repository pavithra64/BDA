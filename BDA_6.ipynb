{
  "cells": [
    {
      "cell_type": "code",
      "execution_count": 17,
      "id": "366858e1-b1e4-42e1-b8e3-b907cb0a49c5",
      "metadata": {
        "id": "366858e1-b1e4-42e1-b8e3-b907cb0a49c5",
        "outputId": "362b69f3-4ffd-4b31-c674-afc907876b3e",
        "colab": {
          "base_uri": "https://localhost:8080/"
        }
      },
      "outputs": [
        {
          "output_type": "stream",
          "name": "stdout",
          "text": [
            "Mapped Output:\n",
            "[((0, 0), ('A', 0, 1)), ((0, 1), ('A', 0, 1)), ((0, 0), ('A', 1, 2)), ((0, 1), ('A', 1, 2)), ((0, 0), ('A', 2, 3)), ((0, 1), ('A', 2, 3)), ((1, 0), ('A', 0, 4)), ((1, 1), ('A', 0, 4)), ((1, 0), ('A', 1, 5)), ((1, 1), ('A', 1, 5))] ...\n",
            "\n",
            "Shuffled Output (sample):\n",
            "(0, 0) : [('A', 0, 1), ('A', 1, 2), ('A', 2, 3), ('B', 0, 7), ('B', 1, 9), ('B', 2, 11)]\n",
            "(0, 1) : [('A', 0, 1), ('A', 1, 2), ('A', 2, 3), ('B', 0, 8), ('B', 1, 10), ('B', 2, 12)]\n",
            "\n",
            "Reduced Output (Final Key-Value Results):\n",
            "[((0, 0), 58), ((0, 1), 64), ((1, 0), 139), ((1, 1), 154)]\n",
            "\n",
            "Resultant Matrix C = A x B:\n",
            "[58, 64]\n",
            "[139, 154]\n"
          ]
        }
      ],
      "source": [
        "from collections import defaultdict\n",
        "\n",
        "# Example Matrices\n",
        "A = [\n",
        "    [1, 2, 3],   # 2x3\n",
        "    [4, 5, 6]\n",
        "]\n",
        "\n",
        "B = [\n",
        "    [7, 8],      # 3x2\n",
        "    [9, 10],\n",
        "    [11, 12]\n",
        "]\n",
        "\n",
        "# Dimensions\n",
        "num_rows_A = len(A)\n",
        "num_cols_A = len(A[0])   # same as num_rows_B\n",
        "num_cols_B = len(B[0])\n",
        "\n",
        "# -------- MAP Step --------\n",
        "mapped = []\n",
        "\n",
        "# Emit values from A\n",
        "for i in range(num_rows_A):\n",
        "    for k in range(num_cols_A):\n",
        "        # Send A[i][k] to all positions (i, j)\n",
        "        for j in range(num_cols_B):\n",
        "            mapped.append(((i, j), (\"A\", k, A[i][k])))\n",
        "\n",
        "# Emit values from B\n",
        "for k in range(len(B)):\n",
        "    for j in range(num_cols_B):\n",
        "        # Send B[k][j] to all positions (i, j)\n",
        "        for i in range(num_rows_A):\n",
        "            mapped.append(((i, j), (\"B\", k, B[k][j])))\n",
        "\n",
        "print(\"Mapped Output:\")\n",
        "print(mapped[:10], \"...\")  # show first 10 for brevity\n",
        "\n",
        "# -------- SHUFFLE Step --------\n",
        "shuffled = defaultdict(list)\n",
        "for key, value in mapped:\n",
        "    shuffled[key].append(value)\n",
        "\n",
        "print(\"\\nShuffled Output (sample):\")\n",
        "for k, v in list(shuffled.items())[:2]:  # show 2 keys only\n",
        "    print(k, \":\", v)\n",
        "\n",
        "# -------- REDUCE Step --------\n",
        "def reducer(key, values):\n",
        "    A_dict = {}\n",
        "    B_dict = {}\n",
        "    for mat, k, val in values:\n",
        "        if mat == \"A\":\n",
        "            A_dict[k] = val\n",
        "        else:\n",
        "            B_dict[k] = val\n",
        "\n",
        "    total = 0\n",
        "    for k in range(num_cols_A):\n",
        "        total += A_dict.get(k, 0) * B_dict.get(k, 0)\n",
        "    return key, total\n",
        "\n",
        "reduced = []\n",
        "for key, values in shuffled.items():\n",
        "    reduced.append(reducer(key, values))\n",
        "\n",
        "print(\"\\nReduced Output (Final Key-Value Results):\")\n",
        "print(reduced)\n",
        "\n",
        "# -------- Format as Matrix --------\n",
        "C = [[0 for _ in range(num_cols_B)] for _ in range(num_rows_A)]\n",
        "for (i, j), val in reduced:\n",
        "    C[i][j] = val\n",
        "\n",
        "print(\"\\nResultant Matrix C = A x B:\")\n",
        "for row in C:\n",
        "    print(row)\n",
        "\n"
      ]
    }
  ],
  "metadata": {
    "kernelspec": {
      "display_name": "Python [conda env:azam]",
      "language": "python",
      "name": "conda-env-azam-py"
    },
    "language_info": {
      "codemirror_mode": {
        "name": "ipython",
        "version": 3
      },
      "file_extension": ".py",
      "mimetype": "text/x-python",
      "name": "python",
      "nbconvert_exporter": "python",
      "pygments_lexer": "ipython3",
      "version": "3.12.11"
    },
    "colab": {
      "provenance": []
    }
  },
  "nbformat": 4,
  "nbformat_minor": 5
}