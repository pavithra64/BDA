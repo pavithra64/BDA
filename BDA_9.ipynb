{
  "cells": [
    {
      "cell_type": "code",
      "execution_count": 23,
      "id": "366858e1-b1e4-42e1-b8e3-b907cb0a49c5",
      "metadata": {
        "id": "366858e1-b1e4-42e1-b8e3-b907cb0a49c5",
        "outputId": "5e4279ed-c38d-46b8-f248-874b9c30dbac",
        "colab": {
          "base_uri": "https://localhost:8080/"
        }
      },
      "outputs": [
        {
          "output_type": "stream",
          "name": "stdout",
          "text": [
            "Mapped Output:\n",
            "[(('died', 'male'), 22), (('survived_class', 1), 1), (('survived_class', 3), 1), (('survived_class', 1), 1), (('died', 'male'), 35), (('died', 'female'), 28)]\n",
            "\n",
            "Shuffled Output:\n",
            "('died', 'male') : [22, 35]\n",
            "('survived_class', 1) : [1, 1]\n",
            "('survived_class', 3) : [1]\n",
            "('died', 'female') : [28]\n",
            "\n",
            "Final Results:\n",
            "Average age of died (male): 28.5\n",
            "Survivors in class 1: 2\n",
            "Survivors in class 3: 1\n",
            "Average age of died (female): 28.0\n"
          ]
        }
      ],
      "source": [
        "from collections import defaultdict\n",
        "\n",
        "# Sample Titanic data (subset for demo)\n",
        "titanic_data = [\n",
        "    {\"PassengerId\": 1, \"Survived\": 0, \"Pclass\": 3, \"Name\": \"Allen\", \"Sex\": \"male\", \"Age\": 22},\n",
        "    {\"PassengerId\": 2, \"Survived\": 1, \"Pclass\": 1, \"Name\": \"Cumings\", \"Sex\": \"female\", \"Age\": 38},\n",
        "    {\"PassengerId\": 3, \"Survived\": 1, \"Pclass\": 3, \"Name\": \"Heikkinen\", \"Sex\": \"female\", \"Age\": 26},\n",
        "    {\"PassengerId\": 4, \"Survived\": 1, \"Pclass\": 1, \"Name\": \"Futrelle\", \"Sex\": \"female\", \"Age\": 35},\n",
        "    {\"PassengerId\": 5, \"Survived\": 0, \"Pclass\": 3, \"Name\": \"Allen\", \"Sex\": \"male\", \"Age\": 35},\n",
        "    {\"PassengerId\": 6, \"Survived\": 0, \"Pclass\": 2, \"Name\": \"Smith\", \"Sex\": \"female\", \"Age\": 28}\n",
        "]\n",
        "# -------- MAP STEP --------\n",
        "mapped = []\n",
        "\n",
        "for person in titanic_data:\n",
        "    # Part 1: Collect ages of people who died (Survived=0)\n",
        "    if person[\"Survived\"] == 0 and person[\"Age\"] is not None:\n",
        "        mapped.append(((\"died\", person[\"Sex\"]), person[\"Age\"]))\n",
        "\n",
        "    # Part 2: Count survivors in each class (Survived=1)\n",
        "    if person[\"Survived\"] == 1:\n",
        "        mapped.append(((\"survived_class\", person[\"Pclass\"]), 1))\n",
        "\n",
        "print(\"Mapped Output:\")\n",
        "print(mapped)\n",
        "\n",
        "# -------- SHUFFLE STEP --------\n",
        "shuffled = defaultdict(list)\n",
        "for key, value in mapped:\n",
        "    shuffled[key].append(value)\n",
        "\n",
        "print(\"\\nShuffled Output:\")\n",
        "for k, v in shuffled.items():\n",
        "    print(k, \":\", v)\n",
        "\n",
        "# -------- REDUCE STEP --------\n",
        "results = {}\n",
        "\n",
        "for key, values in shuffled.items():\n",
        "    if key[0] == \"died\":\n",
        "        # Compute average age\n",
        "        avg_age = sum(values) / len(values)\n",
        "        results[f\"Average age of died ({key[1]})\"] = round(avg_age, 2)\n",
        "    elif key[0] == \"survived_class\":\n",
        "        # Count survivors per class\n",
        "        results[f\"Survivors in class {key[1]}\"] = sum(values)\n",
        "\n",
        "print(\"\\nFinal Results:\")\n",
        "for k, v in results.items():\n",
        "    print(f\"{k}: {v}\")"
      ]
    }
  ],
  "metadata": {
    "kernelspec": {
      "display_name": "Python [conda env:azam]",
      "language": "python",
      "name": "conda-env-azam-py"
    },
    "language_info": {
      "codemirror_mode": {
        "name": "ipython",
        "version": 3
      },
      "file_extension": ".py",
      "mimetype": "text/x-python",
      "name": "python",
      "nbconvert_exporter": "python",
      "pygments_lexer": "ipython3",
      "version": "3.12.11"
    },
    "colab": {
      "provenance": []
    }
  },
  "nbformat": 4,
  "nbformat_minor": 5
}