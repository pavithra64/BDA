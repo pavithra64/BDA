{
  "cells": [
    {
      "cell_type": "code",
      "execution_count": 25,
      "id": "366858e1-b1e4-42e1-b8e3-b907cb0a49c5",
      "metadata": {
        "id": "366858e1-b1e4-42e1-b8e3-b907cb0a49c5",
        "outputId": "49fdbed4-0335-41cf-c4f4-740a918d63be",
        "colab": {
          "base_uri": "https://localhost:8080/"
        }
      },
      "outputs": [
        {
          "output_type": "stream",
          "name": "stdout",
          "text": [
            "PROJECT (name, marks):\n",
            "   name  marks\n",
            "0  John     80\n",
            "1  Sara     90\n",
            "2  Mike     75\n",
            "3  Lisa     85 \n",
            "\n",
            "FILTER (marks > 80):\n",
            "   id  name dept  marks\n",
            "1   2  Sara   IT     90\n",
            "3   4  Lisa   EC     85 \n",
            "\n",
            "SORTED (by marks DESC):\n",
            "   id  name dept  marks\n",
            "1   2  Sara   IT     90\n",
            "3   4  Lisa   EC     85\n",
            "0   1  John   CS     80\n",
            "2   3  Mike   CS     75 \n",
            "\n",
            "GROUP + AVG(marks) by dept:\n",
            "  dept  marks\n",
            "0   CS   77.5\n",
            "1   EC   85.0\n",
            "2   IT   90.0 \n",
            "\n",
            "JOIN (students with departments):\n",
            "   id  name dept  marks         dept_name\n",
            "0   1  John   CS     80  Computer Science\n",
            "1   2  Sara   IT     90  Information Tech\n",
            "2   3  Mike   CS     75  Computer Science\n",
            "3   4  Lisa   EC     85       Electronics \n",
            "\n"
          ]
        }
      ],
      "source": [
        "import pandas as pd\n",
        "\n",
        "students = pd.DataFrame({\n",
        "    \"id\":[1,2,3,4],\n",
        "    \"name\":[\"John\",\"Sara\",\"Mike\",\"Lisa\"],\n",
        "    \"dept\":[\"CS\",\"IT\",\"CS\",\"EC\"],\n",
        "    \"marks\":[80,90,75,85]\n",
        "})\n",
        "\n",
        "departments = pd.DataFrame({\n",
        "    \"dept\":[\"CS\",\"IT\",\"EC\"],\n",
        "    \"dept_name\":[\"Computer Science\",\"Information Tech\",\"Electronics\"]})\n",
        "\n",
        "# 1. PROJECT (select name, marks)\n",
        "proj_students = students[[\"name\",\"marks\"]]\n",
        "print(\"PROJECT (name, marks):\")\n",
        "print(proj_students, \"\\n\")\n",
        "\n",
        "# 2. FILTER (marks > 80)\n",
        "high_scorers = students[students[\"marks\"] > 80]\n",
        "print(\"FILTER (marks > 80):\")\n",
        "print(high_scorers, \"\\n\")\n",
        "\n",
        "# 3. SORT (by marks descending)\n",
        "sorted_students = students.sort_values(\"marks\", ascending=False)\n",
        "print(\"SORTED (by marks DESC):\")\n",
        "print(sorted_students, \"\\n\")\n",
        "\n",
        "# 4. GROUP (average marks by dept)\n",
        "avg_marks = students.groupby(\"dept\")[\"marks\"].mean().reset_index()\n",
        "print(\"GROUP + AVG(marks) by dept:\")\n",
        "print(avg_marks, \"\\n\")\n",
        "\n",
        "# 5. JOIN (students with dept info)\n",
        "student_with_dept = pd.merge(students, departments, on=\"dept\")\n",
        "print(\"JOIN (students with departments):\")\n",
        "print(student_with_dept, \"\\n\")\n",
        "\n"
      ]
    }
  ],
  "metadata": {
    "kernelspec": {
      "display_name": "Python [conda env:azam]",
      "language": "python",
      "name": "conda-env-azam-py"
    },
    "language_info": {
      "codemirror_mode": {
        "name": "ipython",
        "version": 3
      },
      "file_extension": ".py",
      "mimetype": "text/x-python",
      "name": "python",
      "nbconvert_exporter": "python",
      "pygments_lexer": "ipython3",
      "version": "3.12.11"
    },
    "colab": {
      "provenance": []
    }
  },
  "nbformat": 4,
  "nbformat_minor": 5
}